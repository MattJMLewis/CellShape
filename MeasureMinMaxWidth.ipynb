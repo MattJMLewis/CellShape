{
 "cells": [
  {
   "cell_type": "code",
   "execution_count": 1,
   "id": "f422de3f-25a7-47d7-a1ee-160c36fa3e24",
   "metadata": {
    "tags": []
   },
   "outputs": [],
   "source": [
    "import numpy as np\n",
    "import matplotlib.pyplot as plt\n",
    "import math\n",
    "\n",
    "import scipy\n",
    "from scipy.ndimage import distance_transform_edt\n",
    "from scipy.signal import convolve2d, medfilt\n",
    "from scipy.stats import linregress\n",
    "\n",
    "from skimage.morphology import skeletonize\n",
    "from skimage.filters import sobel\n",
    "from skimage import feature"
   ]
  },
  {
   "cell_type": "code",
   "execution_count": 117,
   "id": "5d9b1fe0-73f5-415b-a7fb-46417ebe095a",
   "metadata": {
    "tags": []
   },
   "outputs": [],
   "source": [
    "def find_endpoints(img):\n",
    "    # Kernel to sum the neighbours\n",
    "    kernel = [[1, 1, 1],\n",
    "              [1, 0, 1],\n",
    "              [1, 1, 1]]\n",
    "   \n",
    "    # 2D convolution (cast image to int32 to avoid overflow)\n",
    "    img_conv = convolve2d(img.astype(np.int32), kernel, mode='same')\n",
    "    \n",
    "    # Pick points where pixel is 255 and neighbours sum 255\n",
    "    endpoints = np.stack(np.where((img == 255) & (img_conv == 255)), axis=1)\n",
    "    \n",
    "    return endpoints\n",
    "\n",
    "\n",
    "def extend_skeleton(skeleton, outline, sobel, line_end):\n",
    "    \n",
    "    local_skeleton = skeleton.copy()\n",
    "    end_x = line_end[1]\n",
    "    end_y = line_end[0]\n",
    "    \n",
    "    # Find indices where the value is 1\n",
    "    indices = np.argwhere(skeleton == 255)\n",
    "\n",
    "    # Calculate the gradient at both ends of the line\n",
    "    loc = np.where(np.all(indices == [end_y, end_x], axis=1))[0][0]\n",
    "    \n",
    "    if loc < 10:        \n",
    "        previous_end_y = list(indices[loc:loc+5, 0])\n",
    "        previous_end_x = list(indices[loc:loc+5, 1])\n",
    "    else:\n",
    "        previous_end_y = list(indices[loc-5:loc, 0])\n",
    "        previous_end_x = list(indices[loc-5: loc, 1])\n",
    "    \n",
    "    while True:\n",
    "        end_pixel = outline[end_y, end_x]\n",
    "        \n",
    "        # If the end pixel is on the outline the skeleton extension process is finished\n",
    "        if end_pixel == 255:\n",
    "            break\n",
    "            \n",
    "        # If the end pixel is not on the outline we need to find the nearest pixel (out of the neighbouring pixels that are the best to extend along)\n",
    "        # Note we need to exclude the current skeleton from this\n",
    "        \n",
    "        # Get sobel neighbours and skel neigbours\n",
    "        sobel_neighbours = sobel[end_y-1:end_y+2, end_x-1:end_x+2]\n",
    "        skeleton_neighbours = np.invert(local_skeleton[end_y-1:end_y+2, end_x-1:end_x+2])\n",
    "                \n",
    "        # Filter out skel neighbours if present\n",
    "        \n",
    "        possible_routes = np.divide(skeleton_neighbours * sobel_neighbours, 255)\n",
    "        \n",
    "        if possible_routes.size == 0:\n",
    "            break\n",
    "            \n",
    "        try:\n",
    "            current_gradient = linregress(previous_end_x, previous_end_y)\n",
    "            slope = current_gradient.slope\n",
    "            if slope > 0:\n",
    "                possible_routes[0][0] = 0\n",
    "                possible_routes[1][0] = 0\n",
    "                possible_routes[2][1] = 0\n",
    "                possible_routes[2][2] = 0\n",
    "            elif slope < 0:\n",
    "                possible_routes[2][0] = 0\n",
    "                possible_routes[1][0] = 0\n",
    "                possible_routes[0][1] = 0\n",
    "                possible_routes[0][2] = 0\n",
    "            else:\n",
    "                possible_routes[0][0] = 0\n",
    "                possible_routes[0][1] = 0\n",
    "                possible_routes[0][2] = 0\n",
    "                possible_routes[2][0] = 0\n",
    "                possible_routes[2][1] = 0\n",
    "                possible_routes[2][2] = 0\n",
    "        except:\n",
    "            pass\n",
    "\n",
    "        possible_routes[possible_routes==0] = 'nan'\n",
    "        \n",
    "        # Select best sobel neighbour\n",
    "        rel_cords = np.where(possible_routes == np.nanmin(possible_routes))\n",
    "        \n",
    "        if len(rel_cords[0]) == 0:\n",
    "            break\n",
    "        \n",
    "        coord_translation = [rel_cords[0][0] -1, rel_cords[1][0] -1]\n",
    "        \n",
    "        # New end of line coord\n",
    "        end_y = end_y + coord_translation[0]\n",
    "        end_x = end_x + coord_translation[1]\n",
    "        \n",
    "        #Update local skel\n",
    "        local_skeleton[end_y, end_x] = 255\n",
    "        \n",
    "        # Add to queue\n",
    "        if(len(previous_end_x) > 100):\n",
    "            previous_end_x.pop(0)\n",
    "            previous_end_y.pop(0)\n",
    "        \n",
    "        previous_end_x.append(end_x)\n",
    "        previous_end_y.append(end_y)\n",
    "        \n",
    "    return local_skeleton\n",
    "\n",
    "\n",
    "def get_skeleton(image, smoothen=False):\n",
    "    \n",
    "    \n",
    "    if smoothen:\n",
    "        # Smoothed image\n",
    "        smoothened_image = medfilt(image, kernel_size=25)\n",
    "        skeleton = skeletonize(smoothened_image)\n",
    "    else:\n",
    "        skeleton = skeletonize(image)\n",
    "    \n",
    "    skeleton_im = skeleton * np.uint8(255)\n",
    "\n",
    "    # Get outline + smooth image\n",
    "    #outline = cv2.Canny(image, 0,0)\n",
    "    outline = feature.canny(image.astype('float')) * np.uint8(255)\n",
    "\n",
    "    edt = distance_transform_edt(image) \n",
    "    sobel_edt = sobel(edt)\n",
    "\n",
    "    # Work out inital end of skeleton\n",
    "    end_points = find_endpoints(skeleton_im)\n",
    "\n",
    "    extended_skeleton = skeleton_im.copy()\n",
    "\n",
    "    for end_point in end_points:\n",
    "        extended_skeleton = extend_skeleton(extended_skeleton, outline, sobel_edt, end_point)\n",
    "        \n",
    "    return extended_skeleton, outline\n",
    "\n",
    "def get_widths(image, extended_skeleton):\n",
    "\n",
    "    widths = distance_transform_edt(image)\n",
    "    skeleton_only_width = np.multiply(np.divide(widths * extended_skeleton, 255), 2)    \n",
    "    skeleton_only_width[skeleton_only_width<1] = 'nan'\n",
    "    \n",
    "    skel_length = np.multiply(np.divide(widths * extended_skeleton, 255), 2)\n",
    "    skel_length[skel_length==0] = 'nan'\n",
    "    skel_length = len(skel_length[~np.isnan(skel_length)])\n",
    "    \n",
    "    adjusted_measurements = skeleton_only_width[~np.isnan(skeleton_only_width)]\n",
    "    \n",
    "    try:\n",
    "        min_width = np.min(adjusted_measurements)\n",
    "        max_width = np.max(adjusted_measurements)\n",
    "    except:\n",
    "        min_width = np.nan\n",
    "        max_width = np.nan\n",
    "        \n",
    "    return adjusted_measurements, min_width, max_width\n"
   ]
  },
  {
   "cell_type": "code",
   "execution_count": 118,
   "id": "3816ff2b-2b2b-40b7-ba2b-715c482d906e",
   "metadata": {
    "tags": []
   },
   "outputs": [],
   "source": [
    "def plot_skeleton(full_image, object_no, smoothen=False):\n",
    "    obj_image = np.uint8((full_image==object_no).astype(int))\n",
    "    extended_skeleton, outline = get_skeleton(obj_image, smoothen)\n",
    "\n",
    "    \n",
    "    plt.imshow(extended_skeleton)\n",
    "    plt.imshow(outline, alpha=0.4)"
   ]
  },
  {
   "cell_type": "code",
   "execution_count": 119,
   "id": "44f7029c-e0d8-4abf-a371-fa3f8c7742e2",
   "metadata": {
    "tags": []
   },
   "outputs": [],
   "source": [
    "from skimage import io"
   ]
  },
  {
   "cell_type": "code",
   "execution_count": 120,
   "id": "fd027f89-975f-4e5f-a1e4-00f73ab2e57c",
   "metadata": {
    "tags": []
   },
   "outputs": [],
   "source": [
    "full_image = io.imread('TestData/Plate1-TreatmentC-Well3-Area2-StainMYHC_cp_masks.png')"
   ]
  },
  {
   "cell_type": "code",
   "execution_count": 123,
   "id": "733e7d68-25fd-463e-a574-9c5f352a3282",
   "metadata": {
    "tags": []
   },
   "outputs": [
    {
     "data": {
      "image/png": "[encoded data removed]",
      "text/plain": [
       "<Figure size 640x480 with 1 Axes>"
      ]
     },
     "metadata": {},
     "output_type": "display_data"
    }
   ],
   "source": [
    "plot_skeleton(full_image,18, smoothen=False)"
   ]
  },
  {
   "cell_type": "code",
   "execution_count": null,
   "id": "d68c4dce-a973-498d-a82c-6e402a2d827e",
   "metadata": {},
   "outputs": [],
   "source": []
  },
  {
   "cell_type": "code",
   "execution_count": null,
   "id": "3089f0f4-bd04-4ed1-a015-d7e2d90b05ca",
   "metadata": {},
   "outputs": [],
   "source": []
  },
  {
   "cell_type": "code",
   "execution_count": null,
   "id": "951512b2-aab9-4e73-89b5-4f5e33ddd541",
   "metadata": {},
   "outputs": [],
   "source": []
  }
 ],
 "metadata": {
  "kernelspec": {
   "display_name": "Python 3 (ipykernel)",
   "language": "python",
   "name": "python3"
  },
  "language_info": {
   "codemirror_mode": {
    "name": "ipython",
    "version": 3
   },
   "file_extension": ".py",
   "mimetype": "text/x-python",
   "name": "python",
   "nbconvert_exporter": "python",
   "pygments_lexer": "ipython3",
   "version": "3.11.5"
  }
 },
 "nbformat": 4,
 "nbformat_minor": 5
}
